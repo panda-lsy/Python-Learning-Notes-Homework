{
 "cells": [
  {
   "cell_type": "markdown",
   "metadata": {},
   "source": [
    "# 正则表达式\n",
    "正则表达式通常称为模式，是一种表达式，用于指定特定目的所需的一组字符串。指定有限字符串集的简单方法是列出其元素或成员。但是通常有更简洁的方法来指定所需的字符串集。\n",
    "\n",
    "## 正则表达式介绍\n",
    "在使用正则表达式库之前，必须将其导入程序。 最简单的正则表达式库最简单的用法是 search () 函数。\n",
    "\n",
    "## re模块\n",
    "`import re`\n",
    "- Python 附带的 \"re \"模块，主要用于字符串搜索和操作\n",
    "- 还经常用于网页 \"抓取\"（从网站上提取大量数据）\n",
    "我们将从这个简单的练习开始表达式教程，使用表达式 (w+) 和 (^)。\n",
    "\n",
    "## rstrip()方法\n",
    "Python rstrip() 删除 string 字符串末尾的指定字符，默认为空白符，包括空格、换行符、回车符、制表符。\n",
    "同理,`lstrip()`删除左边,`strip()`删除的两边。\n",
    "\n",
    "## re.search方法\n",
    "re.search 扫描整个字符串并返回第一个成功的匹配。\n",
    "\n",
    "函数语法：\n",
    "`re.search(pattern, string, flags=0)`"
   ]
  },
  {
   "cell_type": "code",
   "execution_count": 2,
   "metadata": {},
   "outputs": [
    {
     "name": "stdout",
     "output_type": "stream",
     "text": [
      "This is line 1\n",
      "This is line 2\n",
      "This is line 3\n",
      "This is line 4\n",
      "This is line 5\n",
      "This is line 6\n",
      "This is line 7\n",
      "This is line 8\n",
      "This is line 9\n",
      "This is line 10\n"
     ]
    }
   ],
   "source": [
    "# Search for lines that contain 'is' \n",
    "import re \n",
    "hand = open('myfile.txt') \n",
    "for line in hand: \n",
    "    line = line.rstrip() \n",
    "    if re.search('is', line): \n",
    "        print(line)"
   ]
  },
  {
   "cell_type": "markdown",
   "metadata": {},
   "source": [
    "当我们在搜索字符串中添加特殊字符时，正则表达式的威力就体现出来了，这些特殊字符可以让我们更精确地控制哪些行与字符串匹配。在正则表达式中添加这些特殊字符后，我们只需编写很少的代码，就能进行复杂的匹配和提取。例如，在正则表达式中，“^”用于匹配一行的 “开头”。我们可以修改程序，只匹配 “is ”位于行首的行，如下所示："
   ]
  },
  {
   "cell_type": "code",
   "execution_count": 3,
   "metadata": {},
   "outputs": [],
   "source": [
    "# Search for lines that start with 'is' \n",
    "import re \n",
    "hand = open('myfile.txt')\n",
    "for line in hand: \n",
    "    line = line.rstrip() \n",
    "    if re.search('^is', line): \n",
    "        print(line) "
   ]
  },
  {
   "cell_type": "markdown",
   "metadata": {},
   "source": [
    "## re.match函数\n",
    "re.match 尝试从字符串的起始位置匹配一个模式，如果不是起始位置匹配成功的话，match() 就返回 none。\n",
    "函数语法：\n",
    "`re.match(pattern, string, flags=0)`"
   ]
  },
  {
   "cell_type": "code",
   "execution_count": null,
   "metadata": {},
   "outputs": [],
   "source": [
    "#!/usr/bin/python\n",
    "import re\n",
    " \n",
    "line = \"Cats are smarter than dogs\"\n",
    " \n",
    "matchObj = re.match( r'(.*) are (.*?) .*', line, re.M|re.I)\n",
    " \n",
    "if matchObj:\n",
    "   print(\"matchObj.group() : \", matchObj.group())\n",
    "   print(\"matchObj.group(1) : \", matchObj.group(1))\n",
    "   print(\"matchObj.group(2) : \", matchObj.group(2))\n",
    "else:\n",
    "   print(\"No match!!\")"
   ]
  },
  {
   "cell_type": "markdown",
   "metadata": {},
   "source": [
    "### re.match与re.search的区别\n",
    "re.match只匹配字符串的开始，如果字符串开始不符合正则表达式，则匹配失败，函数返回None；而re.search匹配整个字符串，直到找到一个匹配。"
   ]
  },
  {
   "cell_type": "markdown",
   "metadata": {},
   "source": [
    "### findall方法\n",
    "在字符串中找到正则表达式所匹配的所有子串，并返回一个列表，如果有多个匹配模式，则返回元组列表，如果没有找到匹配的，则返回空列表。  \n",
    "注意： match 和 search 是匹配一次 findall 匹配所有。  \n",
    "语法格式为：  \n",
    "`findall(string[, pos[, endpos]])`  "
   ]
  },
  {
   "cell_type": "code",
   "execution_count": 5,
   "metadata": {},
   "outputs": [
    {
     "name": "stdout",
     "output_type": "stream",
     "text": [
      "['a']\n"
     ]
    }
   ],
   "source": [
    "import re\n",
    "text='NIIT 1234 a'\n",
    "data = re.findall(\"[a-z]+\",text)\n",
    "print(data)"
   ]
  },
  {
   "cell_type": "code",
   "execution_count": 1,
   "metadata": {},
   "outputs": [
    {
     "name": "stdout",
     "output_type": "stream",
     "text": [
      "['NIIT', 'a']\n"
     ]
    }
   ],
   "source": [
    "import re\n",
    "text='NIIT 1234 a'\n",
    "data = re.findall(\"[A-Za-z]+\",text)\n",
    "print(data)"
   ]
  },
  {
   "cell_type": "markdown",
   "metadata": {},
   "source": [
    "## re.sub()方法\n",
    "Python 的 re 模块提供了re.sub用于替换字符串中的匹配项。\n",
    "语法：\n",
    "`re.sub(pattern, repl, string, count=0, flags=0)`\n",
    "参数：\n",
    "- pattern : 正则中的模式字符串。\n",
    "- repl : 替换的字符串，也可为一个函数。\n",
    "- string : 要被查找替换的原始字符串。\n",
    "- count : 模式匹配后替换的最大次数，默认 0 表示替换所有的匹配。"
   ]
  },
  {
   "cell_type": "code",
   "execution_count": 3,
   "metadata": {},
   "outputs": [
    {
     "name": "stdout",
     "output_type": "stream",
     "text": [
      "moubc edf mouhs\n"
     ]
    }
   ],
   "source": [
    "import re\n",
    "txt='abc edf ahs'\n",
    "txt=re.sub('a','mou',txt,count=0)\n",
    "print(txt)"
   ]
  },
  {
   "cell_type": "markdown",
   "metadata": {},
   "source": [
    "### re.split()方法\n",
    "split 方法按照能够匹配的子串将字符串分割后返回列表，它的使用形式如下：  \n",
    "`re.split(pattern, string[, maxsplit=0, flags=0])`\n",
    "- pattern\t匹配的正则表达式\n",
    "- string\t要匹配的字符串。\n",
    "- maxsplit\t分隔次数，maxsplit=1 分隔一次，默认为 0，不限制次数。\n",
    "- flags\t标志位，用于控制正则表达式的匹配方式，如：是否区分大小写，多行匹配等等。"
   ]
  },
  {
   "cell_type": "code",
   "execution_count": 9,
   "metadata": {},
   "outputs": [
    {
     "name": "stdout",
     "output_type": "stream",
     "text": [
      "['as', 'dq', 'ad', '']\n"
     ]
    }
   ],
   "source": [
    "import re\n",
    "txt='as,dq.ad,'\n",
    "txt=re.split(r\"\\W\",txt)\n",
    "print(txt)"
   ]
  },
  {
   "cell_type": "markdown",
   "metadata": {},
   "source": [
    "## 正则表达式（RE）语法\n",
    "### 元字符\n",
    "### w+ 和 ^ 表达\n",
    "- \"^\": 该表达式匹配字符串的开头\n",
    "- \"w+\": 该表达式匹配字符串中的字母数字字符  \n",
    "下面我们将举例说明如何在代码中使用 w+ 和 ^ 表达式。"
   ]
  },
  {
   "cell_type": "code",
   "execution_count": 4,
   "metadata": {},
   "outputs": [
    {
     "name": "stdout",
     "output_type": "stream",
     "text": [
      "['Math100']\n"
     ]
    }
   ],
   "source": [
    "import re \n",
    "xx = \"Math100,education is fun\" \n",
    "r1 = re.findall(r\"^\\w+\",xx) \n",
    "print(r1) "
   ]
  },
  {
   "cell_type": "markdown",
   "metadata": {},
   "source": [
    "## \\字符\n",
    "将下一个字符标记为一个特殊字符、或一个原义字符、或一个 向后引用、或一个八进制转义符。例如，'n' 匹配字符 \"n\"。'\\n' 匹配一个换行符。序列 '\\\\' 匹配 \"\\\" 而 \"\\(\" 则匹配 \"(\"。"
   ]
  },
  {
   "cell_type": "markdown",
   "metadata": {},
   "source": [
    "## $字符\n",
    "匹配输入字符串的结束位置。如果设置了RegExp 对象的 Multiline 属性，$ 也匹配 '\\n' 或 '\\r' 之前的位置。"
   ]
  },
  {
   "cell_type": "markdown",
   "metadata": {},
   "source": [
    "## \\D与\\d字符\n",
    "\\d 匹配一个数字字符。等价于 [0-9]。  \n",
    "\\D 匹配一个非数字字符。等价于 [^0-9]。"
   ]
  },
  {
   "cell_type": "markdown",
   "metadata": {},
   "source": []
  }
 ],
 "metadata": {
  "kernelspec": {
   "display_name": "Python 3",
   "language": "python",
   "name": "python3"
  },
  "language_info": {
   "codemirror_mode": {
    "name": "ipython",
    "version": 3
   },
   "file_extension": ".py",
   "mimetype": "text/x-python",
   "name": "python",
   "nbconvert_exporter": "python",
   "pygments_lexer": "ipython3",
   "version": "3.12.4"
  }
 },
 "nbformat": 4,
 "nbformat_minor": 2
}
