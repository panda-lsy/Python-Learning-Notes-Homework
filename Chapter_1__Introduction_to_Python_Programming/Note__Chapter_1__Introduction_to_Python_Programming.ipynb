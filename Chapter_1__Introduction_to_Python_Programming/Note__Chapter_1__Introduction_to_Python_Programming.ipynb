{
 "cells": [
  {
   "cell_type": "markdown",
   "id": "a3e07e28",
   "metadata": {},
   "source": [
    "# Python 编程介绍\n",
    "Python 是一种解释型语言，在程序开发过程中可以节省大量时间，因为无需编译和链接。因为无需编译和链接。解释器可以交互式使用，这使得语言的功能进行实验，编写一次性程序，或在自下而上的程序开发过程中测试功能。自下而上的程序开发过程中测试功能。它还是一个方便的桌面计算器。"
   ]
  },
  {
   "cell_type": "markdown",
   "id": "bc3200e9",
   "metadata": {},
   "source": [
    "## Python 的特点\n",
    "Python 提供了许多有用的功能，这些功能使它与其他编程语言相比更受欢迎、更有价值。它支持面向对象编程、过程式编程方法，并提供动态内存分配。  \n",
    "下面列出了一些基本功能："
   ]
  },
  {
   "cell_type": "markdown",
   "id": "b5ab1451",
   "metadata": {},
   "source": [
    "### 可移植性(Portability)\n",
    "\n",
    "Python 可以在任何地方运行，将程序从 Linux 移植到 Windows 或 Mac 通常只需要路径和设置。  \n",
    "Python 是为可移植性而设计的，它能照顾到操作系统 (OS)，这就省去了我们为特定平台编写代码的工作。\n",
    "\n",
    "### 内容丰富的库文件(An extensive library)\n",
    "\n",
    "Python 有一个非常广泛的标准库。全世界的 Python 社区维护着大量的 第三方库，人们可以在 Python 包索引(PyPI)。  \n",
    "当我们编写 Python 代码并意识到需要某种功能时，在大多数情况下，至少有一个库已经为我们实现了该功能。\n",
    "\n",
    "### 面向对象的语言(Object-oriented language)\n",
    "\n",
    "Python 支持面向对象的语言，并出现了类和对象的概念。 它支持继承、多态和封装等。 面向对象的程序有助于程序员编写可重复使用的代码，用更少的代码开发应用程序。\n",
    "\n",
    "### 可嵌入(Embeddable)\n",
    "其他编程语言的代码可以在 Python 源代码中使用。我们也可以在其他编程语言中使用 Python 源代码。它可以将其他语言嵌入到我们的代码中。\n",
    "\n",
    "### 动态类型(Dynamic typed)\n",
    "\n",
    "在 Python 中，我们不需要指定变量的数据类型。当我们给变量赋值时，它会在运行时自动为变量分配内存。假设我们给 `x` 赋了整数值 `15`，那么我们不需要写  \n",
    "```cpp\n",
    "int x = 15\n",
    "```\n",
    "只需写入 `x = 15` 即可。\n",
    "\n",
    "### 解释型语言(Interpreted language)\n",
    "\n",
    "Python 是一种解释型语言，因为 Python 代码是逐行执行的。C、C++、Java 等语言一样，Python 代码不需要编译，这使得调试代码更加容易。python 的源代码会被转换成一种叫做字节码的直接形式。"
   ]
  },
  {
   "cell_type": "code",
   "execution_count": 1,
   "id": "initial_id",
   "metadata": {
    "ExecuteTime": {
     "end_time": "2024-10-12T01:17:18.698018Z",
     "start_time": "2024-10-12T01:17:18.693486Z"
    },
    "collapsed": true
   },
   "outputs": [
    {
     "name": "stdout",
     "output_type": "stream",
     "text": [
      "5\n"
     ]
    }
   ],
   "source": [
    "#Input\n",
    "a = 2\n",
    "b = 3\n",
    "\n",
    "#Calculation\n",
    "c = a+b\n",
    "\n",
    "#Result Display\n",
    "print(c)"
   ]
  },
  {
   "cell_type": "code",
   "execution_count": 2,
   "id": "e4062d96ffd6dd27",
   "metadata": {
    "ExecuteTime": {
     "end_time": "2024-10-12T01:17:18.775934Z",
     "start_time": "2024-10-12T01:17:18.772629Z"
    }
   },
   "outputs": [
    {
     "name": "stdout",
     "output_type": "stream",
     "text": [
      "Welcome to Python Programming\n"
     ]
    }
   ],
   "source": [
    "print(\"Welcome to Python Programming\")"
   ]
  },
  {
   "cell_type": "code",
   "execution_count": 3,
   "id": "97f2198c01c06cf6",
   "metadata": {
    "ExecuteTime": {
     "end_time": "2024-10-12T01:30:21.444945Z",
     "start_time": "2024-10-12T01:30:21.441726Z"
    }
   },
   "outputs": [
    {
     "name": "stdout",
     "output_type": "stream",
     "text": [
      "<class 'int'>\n"
     ]
    }
   ],
   "source": [
    "a = 5\n",
    "print(type(a))"
   ]
  },
  {
   "cell_type": "code",
   "execution_count": 10,
   "id": "81635bf5cb044248",
   "metadata": {
    "ExecuteTime": {
     "end_time": "2024-10-12T01:32:43.824804Z",
     "start_time": "2024-10-12T01:32:43.821120Z"
    }
   },
   "outputs": [
    {
     "name": "stdout",
     "output_type": "stream",
     "text": [
      "5.001\n",
      "<class 'float'>\n",
      "(3+3j)\n"
     ]
    }
   ],
   "source": [
    "a= 5.001\n",
    "b=float(a)\n",
    "print(b)\n",
    "print(type(b))\n",
    "\n",
    "#j是虚数单位\n",
    "c= 3 + 3j\n",
    "print(type(c))\n",
    "\n",
    "d = \"Liu\" #变量名只能用字母/下划线开头\n",
    "print(type(d)) \n",
    "\n",
    "_d = 3 #变量名不能用数字开头，可以在"
   ]
  },
  {
   "cell_type": "code",
   "execution_count": 2,
   "id": "5ae721d5f213fd5",
   "metadata": {
    "ExecuteTime": {
     "end_time": "2024-10-14T00:09:51.931788Z",
     "start_time": "2024-10-14T00:09:51.928356Z"
    }
   },
   "outputs": [
    {
     "name": "stdout",
     "output_type": "stream",
     "text": [
      "['apple', 'pear', 'orange', 'banana']\n",
      "<class 'list'>\n",
      "apple\n"
     ]
    }
   ],
   "source": [
    "fruits = [\"apple\", \"pear\", \"orange\", \"banana\"]\n",
    "print(fruits)\n",
    "print(type(fruits))\n",
    "print(fruits[0])"
   ]
  },
  {
   "cell_type": "code",
   "execution_count": 3,
   "id": "223193a5183094c4",
   "metadata": {
    "ExecuteTime": {
     "end_time": "2024-10-14T00:12:37.633073Z",
     "start_time": "2024-10-14T00:12:37.628853Z"
    }
   },
   "outputs": [
    {
     "name": "stdout",
     "output_type": "stream",
     "text": [
      "(10, 20, 30, 40, 50, 60)\n",
      "<class 'tuple'>\n"
     ]
    }
   ],
   "source": [
    "number = (10, 20, 30, 40, 50, 60) #元组数据不可改变\n",
    "print(number)\n",
    "print(type(number))\n",
    "#number[0] = 22 如果强行修改会报错"
   ]
  },
  {
   "cell_type": "code",
   "execution_count": 6,
   "id": "9a94b7ead63cfc54",
   "metadata": {
    "ExecuteTime": {
     "end_time": "2024-10-14T00:18:42.799943Z",
     "start_time": "2024-10-14T00:18:42.796939Z"
    }
   },
   "outputs": [
    {
     "name": "stdout",
     "output_type": "stream",
     "text": [
      "[1, 2, 3, 4, 5, 6, 7, 8, 9, 10]\n",
      "range(1, 11)\n",
      "<class 'range'>\n"
     ]
    }
   ],
   "source": [
    "number_range = range(1,11)\n",
    "print(list(number_range))\n",
    "print(str(number_range)) #可以把函数形式转化为字符\n",
    "print(type(number_range))"
   ]
  },
  {
   "cell_type": "code",
   "execution_count": 7,
   "id": "48109727a28817d0",
   "metadata": {
    "ExecuteTime": {
     "end_time": "2024-10-14T00:19:29.414487Z",
     "start_time": "2024-10-14T00:19:29.411023Z"
    }
   },
   "outputs": [
    {
     "name": "stdout",
     "output_type": "stream",
     "text": [
      "<class 'int'>\n",
      "<class 'list'>\n",
      "10.0\n"
     ]
    }
   ],
   "source": [
    "a = 10\n",
    "print(type(a))\n",
    "b = list(str(a))\n",
    "print(type(b))\n",
    "c = float(a)\n",
    "print(c)"
   ]
  },
  {
   "cell_type": "code",
   "execution_count": 10,
   "id": "ddb1aec05052e755",
   "metadata": {
    "ExecuteTime": {
     "end_time": "2024-10-14T00:31:09.125187Z",
     "start_time": "2024-10-14T00:31:09.122185Z"
    }
   },
   "outputs": [
    {
     "name": "stdout",
     "output_type": "stream",
     "text": [
      "{'name': 'Liu', 'age': 20, 'city': 'San Francisco'}\n",
      "Liu\n",
      "{'name': 'Liu-is', 'age': 20, 'city': 'San Francisco'}\n"
     ]
    }
   ],
   "source": [
    "# Dictionary (Mappings) 字典映射\n",
    "person = dict(name=\"Liu\", age=20, city=\"San Francisco\") #Tab补全的另外一种表示方法,将dict文字转换为dict构造函数\n",
    "print(person)           # 输出整个字典\n",
    "print(person[\"name\"])   # 输出字典的一个特定数据\n",
    "'''\n",
    "person = {                  #教授的方法\n",
    "    \"name\": \"Liu\",\n",
    "    \"age\": 20,\n",
    "    \"city\": \"San Francisco\"\n",
    "}\n",
    "'''\n",
    "person[\"name\"] = \"Liu-is\"\n",
    "print(person)"
   ]
  },
  {
   "cell_type": "code",
   "execution_count": 11,
   "id": "e9c635d6834facdb",
   "metadata": {
    "ExecuteTime": {
     "end_time": "2024-10-14T00:32:37.547263Z",
     "start_time": "2024-10-14T00:32:37.543259Z"
    }
   },
   "outputs": [
    {
     "name": "stdout",
     "output_type": "stream",
     "text": [
      "False\n",
      "False\n"
     ]
    }
   ],
   "source": [
    "#布尔类型\n",
    "x = 5\n",
    "y = 10\n",
    "is_greater = x > y\n",
    "print(is_greater)\n",
    "\n",
    "is_equal = x == y\n",
    "print(is_equal)"
   ]
  },
  {
   "cell_type": "code",
   "execution_count": 12,
   "id": "4e0a11908407a271",
   "metadata": {
    "ExecuteTime": {
     "end_time": "2024-10-14T00:36:52.741421Z",
     "start_time": "2024-10-14T00:36:52.737835Z"
    }
   },
   "outputs": [
    {
     "name": "stdout",
     "output_type": "stream",
     "text": [
      "{'orange', 'apple', 'pear', 'banana'}\n",
      "{'orange', 'apple', 'pear', 'banana'}\n",
      "{'pear', 'apple', 'lemon', 'orange', 'banana'}\n",
      "{'pear', 'apple', 'lemon', 'orange'}\n"
     ]
    }
   ],
   "source": [
    "#集合\n",
    "fruits_1 = {\"apple\", \"pear\", \"orange\", \"barnana\"}\n",
    "print(fruits_1)\n",
    "fruits_1 = {\"apple\", \"pear\", \"orange\", \"banana\",\"banana\"}\n",
    "print(fruits_1) #会自动合并重复元素\n",
    "fruits_1.add(\"lemon\")   #添加元素\n",
    "print(fruits_1)\n",
    "fruits_1.remove(\"banana\")   #删除元素\n",
    "print(fruits_1)"
   ]
  }
 ],
 "metadata": {
  "kernelspec": {
   "display_name": "Python 3",
   "language": "python",
   "name": "python3"
  },
  "language_info": {
   "codemirror_mode": {
    "name": "ipython",
    "version": 2
   },
   "file_extension": ".py",
   "mimetype": "text/x-python",
   "name": "python",
   "nbconvert_exporter": "python",
   "pygments_lexer": "ipython2",
   "version": "2.7.6"
  }
 },
 "nbformat": 4,
 "nbformat_minor": 5
}
