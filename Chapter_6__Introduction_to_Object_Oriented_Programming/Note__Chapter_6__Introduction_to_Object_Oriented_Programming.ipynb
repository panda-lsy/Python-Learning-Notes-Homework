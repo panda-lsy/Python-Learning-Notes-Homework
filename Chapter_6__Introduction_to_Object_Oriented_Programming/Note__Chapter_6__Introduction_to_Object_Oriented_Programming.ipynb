{
 "cells": [
  {
   "metadata": {},
   "cell_type": "markdown",
   "source": [
    "# 面向对象编程\n",
    ">面向对象程序设计是种具有对象概念的程序编程典范，同时也是一种程序开发的抽象方针。它可能包含数据、属性、代码与方法。对象则指的是类的实例。它将对象作为程序的基本单元，将程序和数据封装其中，以提高软件的重用性、灵活性和扩展性，对象里的程序可以访问及经常修改对象相关联的数据。在面向对象程序编程里，计算机程序会被设计成彼此相关的对象。\n",
    "## 主要概念\n",
    "- **类(Class)**: 用来描述具有相同的属性和方法的对象的集合，类是对象的蓝图或模板。它定义了一类对象共有的属性和行为。\n",
    "- **类变量(Class Variable)**：类变量在整个实例化的对象中是公用的。类变量是属于类本身的变量，而不是特定于某个对象的变量。\n",
    "- **实例变量 (Instance Variable)**：实例变量是属于对象的变量，它们存储在对象内部，并且每个对象都有自己独立的一份。\n",
    "- **对象(Object)**：对象是类的实例。每个对象都是根据类的定义创建出来的，并且拥有自己的状态（即实例变量）。\n",
    "- **方法 (Method)**：方法是定义在类中的函数，用于操作类或对象的属性。"
   ],
   "id": "45d102fb77dd4486"
  },
  {
   "metadata": {},
   "cell_type": "markdown",
   "source": [
    "## 实例与讲解\n",
    "我们创建了一个记录教学对象的信息系统，定义了`T_and_S`类。  \n",
    "其中:  \n",
    "- `total_count`就是类变量，他记录了教学对象的总人数。  \n",
    "- `def __init__`在类中定义的函数为方法，其中`__init__`类的构造函数或初始化方法，当创建了这个类的实例时就会调用该方法。实参应该使用小写。  \n",
    "  - 在类中，`self.Name` 为实例变量 \n",
    "  - `@classmethod` 为类方法，它使用 `@classmethod` 装饰器，可以通过类本身调用，也可以通过对象调用。\n",
    "- 通过对变量赋值类名加括号，内置属性，来创建不同的对象\n",
    "- 通过`对象.实例变量`来访问对象属性\n",
    "- 类变量`total_count`的值将在这个类的所有实例之间共享，在内部类或外部类使用 `T_and_S.total_count` 访问"
   ],
   "id": "199111e894073802"
  },
  {
   "cell_type": "code",
   "id": "initial_id",
   "metadata": {
    "collapsed": true,
    "ExecuteTime": {
     "end_time": "2024-11-28T00:50:30.795579Z",
     "start_time": "2024-11-28T00:50:30.786613Z"
    }
   },
   "source": [
    "class T_and_S:  #创建了一个T_and_S的类\n",
    "    \"\"\"记录老师和同学的信息\"\"\"    #类文档字符串\n",
    "    #类变量\n",
    "    total_count=0\n",
    "    \n",
    "    def __init__(self, name, age, role):   #方法（Method）\n",
    "        #实例变量\n",
    "        self.Name = name\n",
    "        self.Age = age\n",
    "        self.Role = role\n",
    "        # 每次创建一个新的对象时，总人数增加1\n",
    "        T_and_S.total_count+=1\n",
    "        \n",
    "    #类方法 \n",
    "    @classmethod\n",
    "    def get_total_count(cls):\n",
    "        return cls.total_count\n",
    "    \n",
    "#通过类创建不同对象\n",
    "Leo = T_and_S('Leo', 18, \"Student\")\n",
    "Sakura = T_and_S('Sakura', 22, \"Student\")\n",
    "Kshitij = T_and_S('Kshitij', 23, \"Teacher\")\n",
    "\n",
    "#访问属性\n",
    "print(\"There are {} People\".format(T_and_S.total_count))\n",
    "print(\"{} is a {} year old {}\".format(Leo.Name, Leo.Age, Leo.Role))"
   ],
   "outputs": [
    {
     "name": "stdout",
     "output_type": "stream",
     "text": [
      "There are 3 People\n",
      "Leo is a 18 year old Student\n"
     ]
    }
   ],
   "execution_count": 18
  },
  {
   "metadata": {},
   "cell_type": "markdown",
   "source": "## 编写 Python 类并使用对象",
   "id": "2fad4dea59d2f458"
  },
  {
   "metadata": {},
   "cell_type": "markdown",
   "source": [
    "### 创建类(Class)\n",
    "请看下面的示例，创建的 Employee 类包含两个字段，分别是 Employee id和姓名这两个字段。  \n",
    "该类还包含一个函数 display()，用于显示 Employee 的信息。"
   ],
   "id": "985399857af6c2d8"
  },
  {
   "metadata": {
    "ExecuteTime": {
     "end_time": "2024-11-28T00:31:22.938798Z",
     "start_time": "2024-11-28T00:31:22.934520Z"
    }
   },
   "cell_type": "code",
   "source": [
    "class Employee:\n",
    "    id = 10\n",
    "    name = \"Sam\"\n",
    "    def display(self):\n",
    "        print(self.name, self.id)\n",
    "        \n",
    "emp = Employee()\n",
    "emp.display()"
   ],
   "id": "b714112bdeb5ed97",
   "outputs": [
    {
     "name": "stdout",
     "output_type": "stream",
     "text": [
      "Sam 10\n"
     ]
    }
   ],
   "execution_count": 7
  },
  {
   "metadata": {},
   "cell_type": "markdown",
   "source": [
    "### 创建类的实例\n",
    "下面的示例创建了上例中定义的 Employee 类的实例。  \n",
    "其中,通过占位符来代替变量：  \n",
    "`%s`来替换字符串变量  \n",
    "`%d`来替换数字变量  \n",
    "通过转义字符来换行:  \n",
    "`\\n`来换行"
   ],
   "id": "3a28ed47e1cb0d39"
  },
  {
   "metadata": {
    "ExecuteTime": {
     "end_time": "2024-11-28T00:45:51.594988Z",
     "start_time": "2024-11-28T00:45:51.589756Z"
    }
   },
   "cell_type": "code",
   "source": [
    "class Employee:     \n",
    "    id = 10    \n",
    "    name = \"Sam\"     \n",
    "    def display (self):     \n",
    "        print(\"ID: %d \\nName: %s\"%(self.id,self.name))     \n",
    "    #Creating a emp instance of Employee class   \n",
    "    emp = Employee()     \n",
    "    emp.display()"
   ],
   "id": "1a46ea3ea5a3b02b",
   "outputs": [
    {
     "name": "stdout",
     "output_type": "stream",
     "text": [
      "ID: 10 \n",
      "Name: Sam\n"
     ]
    }
   ],
   "execution_count": 13
  },
  {
   "metadata": {},
   "cell_type": "markdown",
   "source": [
    "### 构造函数\n",
    "构造函数(`__init__`)是一种特殊的方法，用于初始化类的实例成员。  \n",
    "它接收`self`作为第一个关键字  \n",
    "有两种种类：\n",
    "- 参数化构造函数\n",
    "- 非参数化构造函数  \n",
    "以下分别为两种例子："
   ],
   "id": "8b6b220fc19feb97"
  },
  {
   "metadata": {
    "ExecuteTime": {
     "end_time": "2024-11-28T01:02:11.571330Z",
     "start_time": "2024-11-28T01:02:11.564499Z"
    }
   },
   "cell_type": "code",
   "source": [
    "class Employee:\n",
    "    count=0\n",
    "    \n",
    "    def __init__(self, id, name):\n",
    "        self.id = id\n",
    "        self.name = name\n",
    "        Employee.count+=1\n",
    "    \n",
    "    def display(self):\n",
    "        print(\"ID: %d \\nName: %s\"%(self.id,self.name))\n",
    "        print(\"There are {} employees\".format(self.count))\n",
    "        \n",
    "emp1 = Employee(1, \"Sam\")\n",
    "emp2 = Employee(2, \"Amy\")\n",
    "Employee.display(emp1)"
   ],
   "id": "437699c2dbbc2eca",
   "outputs": [
    {
     "name": "stdout",
     "output_type": "stream",
     "text": [
      "ID: 1 \n",
      "Name: Sam\n",
      "There are 2 employees\n"
     ]
    }
   ],
   "execution_count": 23
  },
  {
   "metadata": {
    "ExecuteTime": {
     "end_time": "2024-11-28T01:05:04.250488Z",
     "start_time": "2024-11-28T01:05:04.246770Z"
    }
   },
   "cell_type": "code",
   "source": [
    "class Employee:\n",
    "    def __init__(self):\n",
    "        print(\"这是非参数化构造函数\")\n",
    "    \n",
    "    def display(self,name):\n",
    "        print(\"Hello\",name)\n",
    "\n",
    "emp1=Employee()\n",
    "emp1.display(\"Hans\")"
   ],
   "id": "28951da27bcf656f",
   "outputs": [
    {
     "name": "stdout",
     "output_type": "stream",
     "text": [
      "这是非参数化构造函数\n",
      "Hello Hans\n"
     ]
    }
   ],
   "execution_count": 25
  },
  {
   "metadata": {},
   "cell_type": "markdown",
   "source": [
    "#### 构造函数的更多细节\n",
    "##### Python 默认构造函数\n",
    "当我们没有在类中包含构造函数或忘记声明构造函数时，该构造函数就会成为默认的构造函数。  \n",
    "它不执行任何任务，只是初始化对象。 请看下面的例子。"
   ],
   "id": "ec510affddd7bcda"
  },
  {
   "metadata": {},
   "cell_type": "code",
   "outputs": [],
   "execution_count": null,
   "source": [
    "class Employee:     \n",
    "    id = 10    \n",
    "    name = \"Sam\"     \n",
    "    def display (self):     \n",
    "        print(\"ID: %d \\nName: %s\"%(self.id,self.name))     \n",
    "    #Creating a emp instance of Employee class   \n",
    "    emp = Employee()     \n",
    "    emp.display()"
   ],
   "id": "d6ff1b17a2e0cb82"
  },
  {
   "metadata": {},
   "cell_type": "markdown",
   "source": [
    "##### 多个构造函数\n",
    "只会生效后面的一个，前面的会被覆盖掉。"
   ],
   "id": "394078eb7c586c5a"
  },
  {
   "metadata": {
    "ExecuteTime": {
     "end_time": "2024-11-28T01:09:55.781276Z",
     "start_time": "2024-11-28T01:09:55.776751Z"
    }
   },
   "cell_type": "code",
   "source": [
    "class Student:   \n",
    "    def __init__(self):   \n",
    "        print(\"The First Constructor\")   \n",
    "    def __init__(self):   \n",
    "        print(\"The second contructor\")   \n",
    "st = Student()  "
   ],
   "id": "a47c3589f762022f",
   "outputs": [
    {
     "name": "stdout",
     "output_type": "stream",
     "text": [
      "The second contructor\n"
     ]
    }
   ],
   "execution_count": 26
  },
  {
   "metadata": {},
   "cell_type": "markdown",
   "source": [
    "\n",
    "### 方法与函数、类和类的实例的区分\n",
    "类的方法与函数有一个区别，前者有一个**额外的第一个参数**名称`self`  \n",
    "而`self`指向的是类和地址，而`self.__class__`指向类。"
   ],
   "id": "a4b7d9d90dbc3bae"
  },
  {
   "metadata": {
    "ExecuteTime": {
     "end_time": "2024-11-28T00:55:21.653912Z",
     "start_time": "2024-11-28T00:55:21.649981Z"
    }
   },
   "cell_type": "code",
   "source": [
    "class Test:\n",
    "    def show(self):\n",
    "        print(self)\n",
    "        print(self.__class__)\n",
    "\n",
    "t = Test()\n",
    "t.show()"
   ],
   "id": "ac0ffd7965efc1f3",
   "outputs": [
    {
     "name": "stdout",
     "output_type": "stream",
     "text": [
      "<__main__.Test object at 0x000001EA4779BEF0>\n",
      "<class '__main__.Test'>\n"
     ]
    }
   ],
   "execution_count": 19
  },
  {
   "metadata": {},
   "cell_type": "markdown",
   "source": [
    "### 删除实例变量\n",
    "通过`del 对象.实例变量()`来删除其实例变量.  \n",
    "在删除后会报错`AttributeError: 'Employee' object has no attribute 'id'`"
   ],
   "id": "4143e22c148e6781"
  },
  {
   "metadata": {
    "ExecuteTime": {
     "end_time": "2024-11-28T00:46:26.699632Z",
     "start_time": "2024-11-28T00:46:26.686684Z"
    }
   },
   "cell_type": "code",
   "source": [
    "del emp.id\n",
    "emp.display()"
   ],
   "id": "678a00d1396d7c86",
   "outputs": [
    {
     "ename": "AttributeError",
     "evalue": "'Employee' object has no attribute 'id'",
     "output_type": "error",
     "traceback": [
      "\u001B[1;31m---------------------------------------------------------------------------\u001B[0m",
      "\u001B[1;31mAttributeError\u001B[0m                            Traceback (most recent call last)",
      "Cell \u001B[1;32mIn[15], line 1\u001B[0m\n\u001B[1;32m----> 1\u001B[0m \u001B[38;5;28;01mdel\u001B[39;00m \u001B[43memp\u001B[49m\u001B[38;5;241;43m.\u001B[39;49m\u001B[43mid\u001B[49m\n\u001B[0;32m      2\u001B[0m \u001B[38;5;28;01mtry\u001B[39;00m:\n\u001B[0;32m      3\u001B[0m     \u001B[38;5;28mprint\u001B[39m(\u001B[38;5;241m1\u001B[39m)\n",
      "\u001B[1;31mAttributeError\u001B[0m: 'Employee' object has no attribute 'id'"
     ]
    }
   ],
   "execution_count": 15
  },
  {
   "metadata": {},
   "cell_type": "markdown",
   "source": [
    "### 生成一个对象\n",
    "设置一个变量等于类名加括号,可以通过type()检查变量类型。"
   ],
   "id": "b6e654e4b189a820"
  },
  {
   "metadata": {
    "ExecuteTime": {
     "end_time": "2024-11-28T00:26:37.397270Z",
     "start_time": "2024-11-28T00:26:37.389399Z"
    }
   },
   "cell_type": "code",
   "source": [
    "class Test:\n",
    "    pass\n",
    "Obj = Test()\n",
    "type(Obj)"
   ],
   "id": "a3c98191a5ef9317",
   "outputs": [
    {
     "data": {
      "text/plain": [
       "__main__.Test"
      ]
     },
     "execution_count": 4,
     "metadata": {},
     "output_type": "execute_result"
    }
   ],
   "execution_count": 4
  },
  {
   "metadata": {},
   "cell_type": "markdown",
   "source": "",
   "id": "2936cbf562f9af63"
  },
  {
   "metadata": {},
   "cell_type": "markdown",
   "source": [
    "## 内置类函数(Built-in class functions)\n",
    "下表介绍了该类中定义的内置函数。\n",
    "|S.N| Function| Description |  \n",
    "| ---------- | ----------- |  ----------- |  \n",
    "|1 |getattr(obj,name,default) |用于访问对象的属性 |\n",
    "|2 |setattr(obj,name,value)| 用于为对象的特定属性设置特定值. |\n",
    "|3 |delattr(obj,name) |用于删除特定属性. |\n",
    "|4 |hasattr(obj,name) |如果对象包含某些特定属性，则返回 true. |"
   ],
   "id": "4c9977f6478d9f00"
  },
  {
   "metadata": {
    "ExecuteTime": {
     "end_time": "2024-11-28T01:16:04.523585Z",
     "start_time": "2024-11-28T01:16:04.512675Z"
    }
   },
   "cell_type": "code",
   "source": [
    "class Student: \n",
    "    def __init__(self, name, id, age): \n",
    "        self.name = name \n",
    "        self.id = id \n",
    "        self.age = age \n",
    "# 创建Student类对象   \n",
    "s = Student(\"John\", 101, 22) \n",
    "# 打印对象 s 的属性名称  \n",
    "print(getattr(s, 'name')) \n",
    "# 将属性 age 的值重置为 23\n",
    "setattr(s, \"age\", 23) \n",
    "# 打印 age 的修改值\n",
    "print(getattr(s, 'age')) \n",
    "# 如果学生包含名称为 id 的属性，则打印为 True\n",
    "print(hasattr(s, 'id')) \n",
    "# 删除 age 属性 \n",
    "delattr(s, 'age') \n",
    "# 这将导致错误，因为属性 age 已被删除\n",
    "print(s.age) "
   ],
   "id": "1e6a7ee35d9e9835",
   "outputs": [
    {
     "name": "stdout",
     "output_type": "stream",
     "text": [
      "John\n",
      "23\n",
      "True\n"
     ]
    },
    {
     "ename": "AttributeError",
     "evalue": "'Student' object has no attribute 'age'",
     "output_type": "error",
     "traceback": [
      "\u001B[1;31m---------------------------------------------------------------------------\u001B[0m",
      "\u001B[1;31mAttributeError\u001B[0m                            Traceback (most recent call last)",
      "Cell \u001B[1;32mIn[27], line 19\u001B[0m\n\u001B[0;32m     17\u001B[0m \u001B[38;5;28mdelattr\u001B[39m(s, \u001B[38;5;124m'\u001B[39m\u001B[38;5;124mage\u001B[39m\u001B[38;5;124m'\u001B[39m) \n\u001B[0;32m     18\u001B[0m \u001B[38;5;66;03m# 这将导致错误，因为属性 age 已被删除\u001B[39;00m\n\u001B[1;32m---> 19\u001B[0m \u001B[38;5;28mprint\u001B[39m(\u001B[43ms\u001B[49m\u001B[38;5;241;43m.\u001B[39;49m\u001B[43mage\u001B[49m) \n",
      "\u001B[1;31mAttributeError\u001B[0m: 'Student' object has no attribute 'age'"
     ]
    }
   ],
   "execution_count": 27
  },
  {
   "metadata": {},
   "cell_type": "markdown",
   "source": [
    "### 内置类属性(Built-in class attributes)\n",
    "除了其他属性，Python 类还包含一些内置的类属性，这些属性提供了关于类的信息。  \n",
    "下表给出了内置类属性。\n",
    "|S.N| Function| Description |  \n",
    "| ---------- | ----------- |  ----------- |  \n",
    "|1 |`__dict__` |它提供了包含类命名空间的信息|\n",
    "|2 |`__doc__`| 它包含一个字符串，该字符串的类为文档 |\n",
    "|3 |`__name__`|用于访问类名. |\n",
    "|4 |`__module__`|它用于访问其中类的模块 |\n",
    "|5 |`__bases__`|它包含一个元组，其中包括所有基类 |"
   ],
   "id": "d01e0de569908ea7"
  },
  {
   "metadata": {
    "ExecuteTime": {
     "end_time": "2024-11-28T01:23:48.949829Z",
     "start_time": "2024-11-28T01:23:48.945056Z"
    }
   },
   "cell_type": "code",
   "source": [
    "class Student:  \n",
    "    '这是关于类的文档'\n",
    "    def __init__(self,name,id,age):     \n",
    "        self.name = name\n",
    "        self.id = id  \n",
    "        self.age = age     \n",
    "    def display_details(self):     \n",
    "        print(\"Name:%s, ID:%d, age:%d\"%(self.name,self.id))     \n",
    "s = Student(\"John\",101,22)     \n",
    "print(s.__dict__)   \n",
    "print(s.__doc__)     \n",
    "print(s.__module__)   "
   ],
   "id": "323cc42bf08d3590",
   "outputs": [
    {
     "name": "stdout",
     "output_type": "stream",
     "text": [
      "{'name': 'John', 'id': 101, 'age': 22}\n",
      "这是关于类的文档\n",
      "__main__\n"
     ]
    }
   ],
   "execution_count": 33
  },
  {
   "metadata": {},
   "cell_type": "markdown",
   "source": [
    "## `Self`的使用\n",
    "在面向对象编程中，每当我们为一个类定义方法时，我们都会使用 self 作为第一个参数。 让我们看看一个名为 Cat 的类的定义。"
   ],
   "id": "a3e438d12fcaf02"
  },
  {
   "metadata": {
    "ExecuteTime": {
     "end_time": "2024-12-02T00:10:34.783763Z",
     "start_time": "2024-12-02T00:10:34.779084Z"
    }
   },
   "cell_type": "code",
   "source": [
    "class Cat: \n",
    "    def __init__(self, name, age): \n",
    "        self.name = name \n",
    "        self.age = age \n",
    "    def info(self): \n",
    "        print(f\"I am a cat.My name is {self.name}.I am {self.age} years old.\") \n",
    "    def make_sound(self): \n",
    "        print(\"Meow\")"
   ],
   "id": "4168c73011b66808",
   "outputs": [],
   "execution_count": 2
  },
  {
   "metadata": {},
   "cell_type": "markdown",
   "source": [
    "在这种情况下，包括 `__init__` 在内的所有方法的第一个参数都是 self。  \n",
    "我们知道，类是对象的蓝图, 这个蓝图可以用来创建多个对象。   \n",
    "让我们用上面的类创建两个不同的对象。"
   ],
   "id": "aee36bed392df52a"
  },
  {
   "metadata": {
    "ExecuteTime": {
     "end_time": "2024-12-02T00:11:16.843969Z",
     "start_time": "2024-12-02T00:11:16.840969Z"
    }
   },
   "cell_type": "code",
   "source": [
    "cat1 = Cat('Andy',2)\n",
    "cat1.info()\n",
    "cat1.make_sound()"
   ],
   "id": "2221853c203d9c4b",
   "outputs": [
    {
     "name": "stdout",
     "output_type": "stream",
     "text": [
      "I am a cat.My name is Andy.I am 2 years old.\n",
      "Meow\n"
     ]
    }
   ],
   "execution_count": 6
  },
  {
   "metadata": {},
   "cell_type": "markdown",
   "source": [
    "self 关键字用于表示给定类的实例（对象）。 在本例中，两个猫对象 cat1 和 cat2 有自己的名称和年龄属性。  \n",
    "如果没有 self 参数，同一个类就无法保存这两个对象的信息。  \n",
    "但是，由于类只是一个蓝图，self 允许访问每个对象的属性和方法。这使得每个对象都有自己的属性和方法。 因此，创建在定义类时，我们就引用了 self 作为对象。"
   ],
   "id": "abd77408c2beba42"
  },
  {
   "metadata": {},
   "cell_type": "markdown",
   "source": [
    "### 为什么每次都要明确定义self?\n",
    "Python 禅宗所说：\n",
    "\n",
    ">\"显式比隐式好\"。\n",
    "\n",
    "那么，我们为什么要这样做呢？  \n",
    "让我们先举一个简单的例子，我们有一个 Point 类，它定义了一个用于计算与原点距离的方法 distance。"
   ],
   "id": "b71b1ad5f4a4fe24"
  },
  {
   "metadata": {
    "ExecuteTime": {
     "end_time": "2024-12-02T00:20:10.261448Z",
     "start_time": "2024-12-02T00:20:10.255913Z"
    }
   },
   "cell_type": "code",
   "source": [
    "class Point(object): \n",
    "    def __init__(self,x = 0,y = 0): \n",
    "        self.x = x \n",
    "        self.y = y \n",
    "    def distance(self): \n",
    "        \"\"\"Find distance from origin\"\"\" \n",
    "        return (self.x**2 + self.y**2) ** 0.5\n",
    "\n",
    "p1=Point(6,8)\n",
    "p1.distance()"
   ],
   "id": "b65db55c254f0997",
   "outputs": [
    {
     "data": {
      "text/plain": [
       "10.0"
      ]
     },
     "execution_count": 7,
     "metadata": {},
     "output_type": "execute_result"
    }
   ],
   "execution_count": 7
  },
  {
   "metadata": {},
   "cell_type": "markdown",
   "source": [
    "在上例中，`__init__()` 定义了三个参数，但我们只传入了两个（6 和 8）。  \n",
    "同样distance() 需要一个参数，但我们只传入了零个参数。  \n",
    "为什么 Python 没有报错参数不匹配？"
   ],
   "id": "4b8328f2de13f422"
  },
  {
   "metadata": {},
   "cell_type": "markdown",
   "source": [
    "### 原理\n",
    "上述示例中的 Point.distance 和 p1.distance 并不完全相同。"
   ],
   "id": "15c0c1ca8cf35df8"
  },
  {
   "metadata": {
    "ExecuteTime": {
     "end_time": "2024-12-02T00:22:20.736649Z",
     "start_time": "2024-12-02T00:22:20.733791Z"
    }
   },
   "cell_type": "code",
   "source": [
    "print(type(Point.distance))\n",
    "print(type(p1.distance))"
   ],
   "id": "a07edd7b88ffb89f",
   "outputs": [
    {
     "name": "stdout",
     "output_type": "stream",
     "text": [
      "<class 'function'>\n",
      "<class 'method'>\n"
     ]
    }
   ],
   "execution_count": 9
  },
  {
   "metadata": {},
   "cell_type": "markdown",
   "source": [
    "我们可以看到，第一个是函数(Function)，第二个是方法(Method)。  \n",
    "正如 *###方法与函数、类和类的实例的区分* 所说，  \n",
    "\n",
    ">类的方法与函数有一个区别，前者有一个**额外的第一个参数**名称`self`  \n",
    "\n",
    "方法的一个特殊之处是，对象本身会作为第一个参数传递给相应函数的第一个参数。  \n",
    "在上述示例中，方法调用 `p1.distance()` 实际上等同于`Point.distance(p1)`。  \n",
    "一般来说，当我们调用一个带有参数的方法时，相应的类函数会被调用，方法的对象会被放在第一个参数之前。  \n",
    "将方法对象放在第一个参数之前。 因此，类似 `obj.meth(args)` 这样的函数会变成 `Class.meth(obj, args)`。  \n",
    "调用过程是自动的，而接收过程则不是。"
   ],
   "id": "c0993813e2245720"
  },
  {
   "metadata": {},
   "cell_type": "markdown",
   "source": [
    "### 规避`self`隐式行为\n",
    "现在你已经清楚，对象（实例）本身会自动作为第一个参数传递。在创建静态方法时，可以避免这种隐式行为。  \n",
    "请看下面这个简单的例子："
   ],
   "id": "dc2f25a83a57daa6"
  },
  {
   "metadata": {
    "ExecuteTime": {
     "end_time": "2024-12-02T00:29:05.186241Z",
     "start_time": "2024-12-02T00:29:05.182723Z"
    }
   },
   "cell_type": "code",
   "source": [
    "class A(object): \n",
    "    @staticmethod \n",
    "    def stat_meth(): \n",
    "        print(\"Look no self was passed\") "
   ],
   "id": "148a14600928ee62",
   "outputs": [],
   "execution_count": 11
  },
  {
   "metadata": {},
   "cell_type": "markdown",
   "source": "在这里，`@staticmethod` 是一个函数装饰器，它使 `stat_meth()` 成为静态。 让我们实例化这个类并调用该方法。",
   "id": "7243205a943ead4b"
  },
  {
   "metadata": {
    "ExecuteTime": {
     "end_time": "2024-12-02T00:29:55.269946Z",
     "start_time": "2024-12-02T00:29:55.265907Z"
    }
   },
   "cell_type": "code",
   "source": [
    "a=A()\n",
    "a.stat_meth()\n",
    "print(type(A.stat_meth))\n",
    "print(type(a.stat_meth))"
   ],
   "id": "2d4b78acad9877fe",
   "outputs": [
    {
     "name": "stdout",
     "output_type": "stream",
     "text": [
      "Look no self was passed\n",
      "<class 'function'>\n",
      "<class 'function'>\n"
     ]
    }
   ],
   "execution_count": 13
  },
  {
   "metadata": {},
   "cell_type": "markdown",
   "source": [
    "## 多个实例\n",
    "到目前为止，我们已经定义了一个类，构建了一个对象，使用了该对象.  \n",
    "然而，在面向对象编程中，当我们为我们的类构造多个实例时，才真正体现了它的威力。  \n",
    "当我们用类构造多个对象时，我们可能想为每个对象设置不同的初始值。  \n",
    "我们可以向构造函数传递数据，为每个对象设置不同的初始值：  "
   ],
   "id": "f6161560953b7b12"
  },
  {
   "metadata": {
    "ExecuteTime": {
     "end_time": "2024-12-02T00:32:07.984321Z",
     "start_time": "2024-12-02T00:32:07.981025Z"
    }
   },
   "cell_type": "code",
   "source": [
    "class PartyAnimal: \n",
    "    x = 0 \n",
    "    name = '' \n",
    "    def __init__(self, nam): \n",
    "        self.name = nam \n",
    "        print(self.name,'constructed') \n",
    "    def party(self) : \n",
    "        self.x = self.x + 1 \n",
    "        print(self.name,'party count',self.x) \n",
    "s = PartyAnimal('Sally') \n",
    "j = PartyAnimal('Jim') \n",
    "s.party() \n",
    "j.party() \n",
    "s.party() "
   ],
   "id": "d3c56e91abf0abc8",
   "outputs": [
    {
     "name": "stdout",
     "output_type": "stream",
     "text": [
      "Sally constructed\n",
      "Jim constructed\n",
      "Sally party count 1\n",
      "Jim party count 1\n",
      "Sally party count 2\n"
     ]
    }
   ],
   "execution_count": 14
  },
  {
   "metadata": {},
   "cell_type": "markdown",
   "source": [
    "构造函数有一个指向对象实例的自参数和一些附加参数，这些参数会在对象构造过程中传递给构造函数：  \n",
    "`s = PartyAnimal('Sally') `  \n",
    "在构造函数中，第二行复制了传入 name 属性的参数 (nam):  \n",
    "`self.name = nam `\n",
    "程序的输出显示，每个对象（s 和 j）都包含各自独立的 x 副本和 nam 的独立副本。\n"
   ],
   "id": "c7ff157081e4256c"
  },
  {
   "metadata": {},
   "cell_type": "markdown",
   "source": [
    "## 类的继承\n",
    "继承是面向对象范例的一个重要方面，继承为程序提供了代码重用性，因为我们可以使用已有的类来创建新的类，而不是从头开始创建。  \n",
    "因为我们可以使用现有的类来创建一个新类，而不是从头开始创建。在继承过程中，子类获得属性，并能访问父类中定义的所有数据成员和函数，子类还可以为父类的函数提供特定的实现。\n",
    "在 Python 中，派生类或子类可以继承基类或父类，只需在派生类名称后的括号中提及基类或父类。   \n",
    "将基类继承到派生类的语法如下：  \n",
    "```\n",
    "class derived-class(base class):   \n",
    "    <class-suite> \n",
    "```\n",
    "一个类可以继承多个类，只需在括号内提及所有类即可。 "
   ],
   "id": "a510186d44631831"
  },
  {
   "metadata": {
    "ExecuteTime": {
     "end_time": "2024-12-02T00:42:49.962158Z",
     "start_time": "2024-12-02T00:42:49.958639Z"
    }
   },
   "cell_type": "code",
   "source": [
    "class Animal:  #父类\n",
    "    def speak(self):   \n",
    "        print(\"Animal Speaking\") \n",
    "#子类 Dog 继承了基类 Animal\n",
    "class Dog(Animal):   \n",
    "    def bark(self):   \n",
    "        print(\"dog barking\")   \n",
    "d = Dog()   \n",
    "d.bark()   \n",
    "d.speak()"
   ],
   "id": "a8a8854b08dcb19f",
   "outputs": [
    {
     "name": "stdout",
     "output_type": "stream",
     "text": [
      "dog barking\n",
      "Animal Speaking\n"
     ]
    }
   ],
   "execution_count": 15
  },
  {
   "metadata": {},
   "cell_type": "markdown",
   "source": "我们将创建一个新程序，并从 `__init__()` 构造函数方法开始，我们将为每个 Fish 对象或子类填充 name_name 和 last_name 类变量。",
   "id": "a27c70a2e2de5de0"
  },
  {
   "metadata": {
    "ExecuteTime": {
     "end_time": "2024-12-02T01:04:13.024795Z",
     "start_time": "2024-12-02T01:04:13.022179Z"
    }
   },
   "cell_type": "code",
   "source": [
    "class Fish: \n",
    "    def __init__(self, first_name, last_name=\"Fish\"): \n",
    "        self.first_name = first_name \n",
    "        self.last_name = last_name \n",
    "    def swim(self): \n",
    "        print(\"The fish is swimming.\") \n",
    "    def swim_backwards(self): \n",
    "        print(\"The fish can swim backwards.\")"
   ],
   "id": "2db3271039c4bb89",
   "outputs": [],
   "execution_count": 17
  },
  {
   "metadata": {},
   "cell_type": "markdown",
   "source": [
    "我们用字符串 \"Fish \"初始化了我们的姓氏变量，因为我们知道大多数鱼的姓氏都是 \"fish\"。   \n",
    "我们在 Fish 类中添加了 `swim()` 和 `swim_backwards()` 方法，这样每个子类都可以使用这些方法。  \n",
    "让我们为它创建一个子类.对于子类，我们可以选择添加更多方法、覆盖现有的父类方法，或者直接接受默认的父类方法："
   ],
   "id": "5d6c2b5c37df321e"
  },
  {
   "metadata": {
    "ExecuteTime": {
     "end_time": "2024-12-02T01:04:14.504510Z",
     "start_time": "2024-12-02T01:04:14.501078Z"
    }
   },
   "cell_type": "code",
   "source": [
    "class Trout(Fish): \n",
    "    pass \n",
    "terry = Trout(\"Terry\") \n",
    "print(terry.first_name + \" \" + terry.last_name) \n",
    "terry.swim() \n",
    "terry.swim_backwards() "
   ],
   "id": "34a6151180d88a79",
   "outputs": [
    {
     "name": "stdout",
     "output_type": "stream",
     "text": [
      "Terry Fish\n",
      "The fish is swimming.\n",
      "The fish can swim backwards.\n"
     ]
    }
   ],
   "execution_count": 18
  },
  {
   "metadata": {},
   "cell_type": "markdown",
   "source": [
    "我们创建了一个 Trout 对象 `terry`，它使用了 `Fish` 类的每个方法，尽管我们没有在 `Trout` 子类中定义这些方法。  \n",
    "我们没有在 Trout 子类中定义这些方法。 我们只需将 \"Terry\" 的值传递给 `first_name` 变量的值，因为所有其他变量都已初始化。"
   ],
   "id": "a73a9b697ebad437"
  },
  {
   "metadata": {},
   "cell_type": "markdown",
   "source": [
    "接下来，让我们创建另一个包含自己方法的子类。  \n",
    "我们称这个类为 `Clownfish` ，它的特殊方法将允许它与海葵一起生活："
   ],
   "id": "22067f3ce4b5ac53"
  },
  {
   "metadata": {
    "ExecuteTime": {
     "end_time": "2024-12-02T01:05:56.653228Z",
     "start_time": "2024-12-02T01:05:56.649230Z"
    }
   },
   "cell_type": "code",
   "source": [
    "class Clownfish(Fish): \n",
    "    def live_with_anemone(self): \n",
    "        print(\"The clownfish is coexisting with sea anemone.\")\n",
    "casey = Clownfish(\"Casey\") \n",
    "print(casey.first_name + \" \" + casey.last_name) \n",
    "casey.swim() \n",
    "casey.live_with_anemone()"
   ],
   "id": "98b71ff0c00b2788",
   "outputs": [
    {
     "name": "stdout",
     "output_type": "stream",
     "text": [
      "Casey Fish\n",
      "The fish is swimming.\n",
      "The clownfish is coexisting with sea anemone.\n"
     ]
    }
   ],
   "execution_count": 19
  },
  {
   "metadata": {},
   "cell_type": "markdown",
   "source": "输出结果显示，小丑鱼对象 `casey` 能够使用鱼类方法 `__init__()` 和 `swim()` 以及它的子类方法 `live_with_anemone()`。",
   "id": "ddfb86e8f7757473"
  },
  {
   "metadata": {},
   "cell_type": "markdown",
   "source": [
    "## 重写父方法\n",
    "到目前为止，我们已经研究了子类 Trout以及另一个子类 Clownfish，它继承了父类的所有行为，后者创建了子类特有的方法。  \n",
    "但有时，我们会希望使用父类的某些行为，而不是全部。  \n",
    "当我们更改父类方法时我们会覆盖它们。  \n",
    "在构建父类和子类时，必须牢记程序设计，以便覆盖不会产生不必要或多余的代码。"
   ],
   "id": "cfa2b1e728fc9733"
  },
  {
   "metadata": {},
   "cell_type": "markdown",
   "source": [
    "我们将为 Fish 父类创建一个 Shark 子类。 有鉴于此，我们将覆盖 `__init__()` 构造函数方法和 `swim_backwards()` 方法。  \n",
    "我们不需要修改 swim() 方法，因为鲨鱼是会游泳的鱼类。"
   ],
   "id": "1afeaba9404255c0"
  },
  {
   "metadata": {
    "ExecuteTime": {
     "end_time": "2024-12-02T01:10:35.550881Z",
     "start_time": "2024-12-02T01:10:35.548602Z"
    }
   },
   "cell_type": "code",
   "source": [
    "class Shark(Fish): \n",
    "    def __init__(self, first_name, last_name=\"Shark\"): \n",
    "        self.first_name = first_name \n",
    "        self.last_name = last_name \n",
    "    def swim_backwards(self): \n",
    "        print(\"The shark cannot swim backwards, but can sink backwards.\") "
   ],
   "id": "253131fe117f9c7",
   "outputs": [],
   "execution_count": 21
  },
  {
   "metadata": {},
   "cell_type": "markdown",
   "source": [
    "我们重载了 `__init__()` 方法中的初始化参数，因此 `last_name` 变量现在被设置为等于字符串 \"Shark\".  \n",
    "类的每个实例也可以重写这些参数。\n",
    "`swim_backwards()` 方法现在打印的字符串与父类 Fish 中的字符串不同。  \n",
    "现在我们可以创建一个 Shark 子类的实例，该实例仍将使用方法："
   ],
   "id": "22f6d922adb571ab"
  },
  {
   "metadata": {
    "ExecuteTime": {
     "end_time": "2024-12-02T01:10:38.978223Z",
     "start_time": "2024-12-02T01:10:38.975013Z"
    }
   },
   "cell_type": "code",
   "source": [
    "sammy = Shark(\"Sammy\") \n",
    "print(sammy.first_name + \" \" + sammy.last_name) \n",
    "sammy.swim()#super class method \n",
    "sammy.swim_backwards() "
   ],
   "id": "af566de22e4c2e81",
   "outputs": [
    {
     "name": "stdout",
     "output_type": "stream",
     "text": [
      "Sammy Shark\n",
      "The fish is swimming.\n",
      "The shark cannot swim backwards, but can sink backwards.\n"
     ]
    }
   ],
   "execution_count": 22
  },
  {
   "metadata": {},
   "cell_type": "markdown",
   "source": "鲨鱼子类成功覆盖了鱼类的 `__init__()` 和 `swim_backwards()` 方法，同时也继承了父类的 `swim()` 方法。",
   "id": "bb556e0535334040"
  },
  {
   "metadata": {},
   "cell_type": "markdown",
   "source": [
    "## `super()`\n",
    "使用 `super()` 函数，可以访问类中已被覆盖的继承方法对象。\n",
    "当我们使用 `super()` 函数时，我们是将父方法调用到子方法中来使用它。例如，我们可能想覆盖父方法的某方面功能，但随后调用原始父方法的其余部分来完成该方法。\n",
    "`super()` 函数最常用于 `__init__()` 方法，因为您将在这里最有可能需要为子类添加一些唯一性，然后从父类完成初始化。"
   ],
   "id": "fd1d452e7a28f5ba"
  },
  {
   "metadata": {},
   "cell_type": "markdown",
   "source": "让我们修改一下 `Trout` 子类，看看它是如何工作的。 由于鳟鱼是典型的淡水鱼，我们在 `__init__()` 方法中添加一个`water` 变量，并将其设置为等于字符串 \"freshwater\"，然后保持其余的的变量和参数：",
   "id": "f10036e8ccc159c5"
  },
  {
   "metadata": {
    "ExecuteTime": {
     "end_time": "2024-12-02T01:16:35.134116Z",
     "start_time": "2024-12-02T01:16:35.130801Z"
    }
   },
   "cell_type": "code",
   "source": [
    "class Trout(Fish): \n",
    "    def __init__(self, water = \"freshwater\"): \n",
    "        self.water = water \n",
    "        super().__init__(self)"
   ],
   "id": "9e58a5a7954949f6",
   "outputs": [],
   "execution_count": 23
  },
  {
   "metadata": {},
   "cell_type": "markdown",
   "source": [
    "由于我们重载了该方法，因此不再需要将 `first_name` 作为参数传递给 `Trout`的参数，而如果我们确实传递了参数，我们将重置 `freshwater`。 因此，我们将初始化\n",
    "name 变量进行初始化。"
   ],
   "id": "eeb98fd382fcca83"
  },
  {
   "metadata": {
    "ExecuteTime": {
     "end_time": "2024-12-02T01:16:37.039074Z",
     "start_time": "2024-12-02T01:16:37.035181Z"
    }
   },
   "cell_type": "code",
   "source": [
    "terry = Trout() \n",
    "# Initialize first name \n",
    "terry.first_name = \"Terry\" \n",
    "# Use parent __init__() through super() \n",
    "print(terry.first_name + \" \" + terry.last_name) \n",
    "# Use child __init__() override \n",
    "print(terry.water) \n",
    "# Use parent swim() method \n",
    "terry.swim() "
   ],
   "id": "a626d5be2e950506",
   "outputs": [
    {
     "name": "stdout",
     "output_type": "stream",
     "text": [
      "Terry Fish\n",
      "freshwater\n",
      "The fish is swimming.\n"
     ]
    }
   ],
   "execution_count": 24
  },
  {
   "metadata": {},
   "cell_type": "markdown",
   "source": [
    "输出结果显示，Trout 子类的对象 terry 既能使用子类特有的`__init__()` 变量 water，同时还能调用 Fish 父类的 `__init__()` 变量 first_name、last_name变量。  \n",
    "Python 内置函数 super() 使我们在重写父类方法时也能使用父类方法。"
   ],
   "id": "9f05e84df8f78415"
  },
  {
   "metadata": {},
   "cell_type": "markdown",
   "source": [
    "## Python 多级继承\n",
    "与其他面向对象语言一样，Python 也可以实现多级继承。  \n",
    "多级继承是当一个派生类继承另一个派生类时，就会产生多级继承。  \n",
    "在 python 中，多级继承的级数没有限制。\n",
    "语法：\n",
    "```\n",
    "class class1:   \n",
    "<class-suite>    \n",
    "class class2(class1):   \n",
    "<class suite>   \n",
    "class class3(class2):   \n",
    "<class suite>\n",
    "```"
   ],
   "id": "7cf6d80f3c4aaa2b"
  },
  {
   "metadata": {
    "ExecuteTime": {
     "end_time": "2024-12-02T01:19:41.810725Z",
     "start_time": "2024-12-02T01:19:41.806706Z"
    }
   },
   "cell_type": "code",
   "source": [
    "class Animal:   \n",
    "    def speak(self):   \n",
    "        print(\"Animal Speaking\")   \n",
    "#The child class Dog inherits the base class Animal   \n",
    "class Dog(Animal):   \n",
    "    def bark(self):   \n",
    "        print(\"dog barking\")   \n",
    "#The child class Dogchild inherits another child class Dog   \n",
    "class DogChild(Dog):   \n",
    "    def eat(self):   \n",
    "        print(\"Eating bread...\")   \n",
    "d = DogChild()   \n",
    "d.bark()   \n",
    "d.speak()   \n",
    "d.eat() "
   ],
   "id": "16f8e1e1db42c1f5",
   "outputs": [
    {
     "name": "stdout",
     "output_type": "stream",
     "text": [
      "dog barking\n",
      "Animal Speaking\n",
      "Eating bread...\n"
     ]
    }
   ],
   "execution_count": 25
  },
  {
   "metadata": {},
   "cell_type": "markdown",
   "source": [
    "## issubclass(sub, sup) 方法\n",
    "`issubclass(sub, sup)` 方法用于检查指定类之间的关系。 它如果第一个类是第二个类的子类，则返回 `True`，否则返回 `False`。"
   ],
   "id": "a3f65438dd9c7576"
  },
  {
   "metadata": {
    "ExecuteTime": {
     "end_time": "2024-12-02T01:21:01.424137Z",
     "start_time": "2024-12-02T01:21:01.420104Z"
    }
   },
   "cell_type": "code",
   "source": [
    "class Calculation1:   \n",
    "    def Summation(self,a,b):   \n",
    "        return a+b;   \n",
    "class Calculation2:   \n",
    "    def Multiplication(self,a,b):   \n",
    "        return a*b;   \n",
    "class Derived(Calculation1,Calculation2):   \n",
    "    def Divide(self,a,b):   \n",
    "        return a/b;   \n",
    "d = Derived()   \n",
    "print(issubclass(Derived,Calculation2))   \n",
    "print(issubclass(Calculation1,Calculation2)) "
   ],
   "id": "8cb000eedc88ff00",
   "outputs": [
    {
     "name": "stdout",
     "output_type": "stream",
     "text": [
      "True\n",
      "False\n"
     ]
    }
   ],
   "execution_count": 26
  },
  {
   "metadata": {},
   "cell_type": "markdown",
   "source": [
    "## isinstance (obj, class) 方法\n",
    "`isinstance()` 方法用于检查对象和类之间的关系。 如果第一个参数（即 `obj`）是第二个参数（即 `class`）的实例，则返回 `True`。\n",
    "示例"
   ],
   "id": "dd37a478a0b3049b"
  },
  {
   "metadata": {
    "ExecuteTime": {
     "end_time": "2024-12-02T01:27:34.328229Z",
     "start_time": "2024-12-02T01:27:34.324197Z"
    }
   },
   "cell_type": "code",
   "source": [
    "class Calculation1:   \n",
    "    def Summation(self,a,b):   \n",
    "        return a+b\n",
    "class Calculation2:   \n",
    "    def Multiplication(self,a,b):   \n",
    "        return a*b\n",
    "class Derived(Calculation1,Calculation2):   \n",
    "    def Divide(self,a,b):   \n",
    "        return a/b\n",
    "d = Derived()   \n",
    "print(isinstance(d,Derived)) "
   ],
   "id": "d074e40b39fee474",
   "outputs": [
    {
     "name": "stdout",
     "output_type": "stream",
     "text": [
      "True\n"
     ]
    }
   ],
   "execution_count": 27
  },
  {
   "metadata": {},
   "cell_type": "markdown",
   "source": [
    "## 多态性\n",
    "多态指的是使用单个类型实体（方法，运算符或对象）来表示不同场景中的不同类型。\n",
    "在创建类方法时，我们可以使用多态的概念，因为Python允许不同的类具有相同名称的方法。这样，函数就可以使用任何这些多态类的对象，而不需要注意类之间的区别。\n",
    "\n",
    "鸭子类型是动态类型的一种风格。在这种风格中，一个对象有效的语义，不是由继承自特定的类或实现特定的接口，而是由\"当前方法和属性的集合\"决定。  \n",
    "这个概念的名字来源于由*James Whitcomb Riley*提出的鸭子测试。“鸭子测试”可以这样表述：  \n",
    "“当看到一只鸟走起来像鸭子、游泳起来像鸭子、叫起来也像鸭子，那么这只鸟就可以被称为鸭子。”\n",
    "\n"
   ],
   "id": "e0361c554947367b"
  },
  {
   "metadata": {},
   "cell_type": "markdown",
   "source": [
    "### 创建多态类\n",
    "为了使用多态性，我们将创建两个不同的类，分别用于两个不同的对象。这两个不同的类都需要有一个共同的接口，这样它们才能被使用。因此，我们将赋予它们不同但名称相同的方法。  \n",
    "我们将创建一个`Shark`类和一个`Clownfish`类，每个类都将定义 `swim()` 的方法、`swim_backwards()` 和 `skeleton()` 的方法。"
   ],
   "id": "a0d300e58f16b378"
  },
  {
   "metadata": {
    "ExecuteTime": {
     "end_time": "2024-12-02T01:35:10.842787Z",
     "start_time": "2024-12-02T01:35:10.839672Z"
    }
   },
   "cell_type": "code",
   "source": [
    "class Shark(): \n",
    "    def swim(self): \n",
    "        print(\"The shark is swimming.\") \n",
    "    def swim_backwards(self): \n",
    "        print(\"The shark cannot swim backwards, but can sink backwards.\") \n",
    "    def skeleton(self): \n",
    "        print(\"The shark's skeleton is made of cartilage.\") \n",
    "class Clownfish(): \n",
    "    def swim(self): \n",
    "        print(\"The clownfish is swimming.\") \n",
    "    def swim_backwards(self): \n",
    "        print(\"The clownfish can swim backwards.\") \n",
    "    def skeleton(self): \n",
    "        print(\"The clownfish's skeleton is made of bone.\")"
   ],
   "id": "a10e94a096d20752",
   "outputs": [],
   "execution_count": 28
  },
  {
   "metadata": {},
   "cell_type": "markdown",
   "source": "在上面的代码中，Shark类和Clownfish类都有三个同名的方法。但是，每个类的这些方法的功能各不相同",
   "id": "2271deca6f38d333"
  },
  {
   "metadata": {
    "ExecuteTime": {
     "end_time": "2024-12-02T01:35:12.031010Z",
     "start_time": "2024-12-02T01:35:12.027493Z"
    }
   },
   "cell_type": "code",
   "source": [
    "sammy = Shark() \n",
    "sammy.skeleton() \n",
    "casey = Clownfish() \n",
    "casey.skeleton()"
   ],
   "id": "bcc87211b2ad259f",
   "outputs": [
    {
     "name": "stdout",
     "output_type": "stream",
     "text": [
      "The shark's skeleton is made of cartilage.\n",
      "The clownfish's skeleton is made of bone.\n"
     ]
    }
   ],
   "execution_count": 29
  }
 ],
 "metadata": {
  "kernelspec": {
   "display_name": "Python 3",
   "language": "python",
   "name": "python3"
  },
  "language_info": {
   "codemirror_mode": {
    "name": "ipython",
    "version": 2
   },
   "file_extension": ".py",
   "mimetype": "text/x-python",
   "name": "python",
   "nbconvert_exporter": "python",
   "pygments_lexer": "ipython2",
   "version": "2.7.6"
  }
 },
 "nbformat": 4,
 "nbformat_minor": 5
}
