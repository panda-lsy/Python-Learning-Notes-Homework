{
 "cells": [
  {
   "cell_type": "markdown",
   "metadata": {},
   "source": [
    "### 1. Write a Python program to get the class name of an instance in Python. \n",
    "### 1. 编写一个 Python 程序，获取 Python 实例的类名。\n"
   ]
  },
  {
   "cell_type": "code",
   "execution_count": null,
   "metadata": {},
   "outputs": [
    {
     "name": "stdout",
     "output_type": "stream",
     "text": [
      "Example\n"
     ]
    }
   ],
   "source": [
    "class Example:\n",
    "\tdef __init__(self, name, value):\n",
    "\t\tself.name = name\n",
    "\t\tself.value = value\n",
    "\n",
    "example_instance = Example(\"example\", 42)\n",
    "print(example_instance.__class__.__name__)"
   ]
  },
  {
   "cell_type": "markdown",
   "metadata": {},
   "source": [
    "### 2. Create a Python class and write a program to create all possible strings by using 'a', 'e', 'i', 'o', 'u'. Use the characters exactly once. \n",
    "### 2. 创建一个 Python 类并编写一个程序，使用 \"a\"、\"e\"、\"i\"、\"o\"、\"u \"创建所有可能的字符串。 请使用这些字符一次。"
   ]
  },
  {
   "cell_type": "code",
   "execution_count": 15,
   "metadata": {},
   "outputs": [
    {
     "name": "stdout",
     "output_type": "stream",
     "text": [
      "aeiou\n",
      "eioua\n",
      "iouae\n",
      "ouaei\n",
      "uaeio\n"
     ]
    }
   ],
   "source": [
    "class String:\n",
    "    def __init__(self, args):\n",
    "        self.chars=args\n",
    "\n",
    "    def print_all_kinds(self):\n",
    "        for i in range(len(self.chars)):\n",
    "            print(''.join(self.chars))\n",
    "            self.chars.append(self.chars[0])\n",
    "            self.chars.pop(0)\n",
    "\n",
    "string = String(['a','e','i','o','u'])\n",
    "string.print_all_kinds()\n",
    "        "
   ]
  },
  {
   "cell_type": "markdown",
   "metadata": {},
   "source": [
    "### 3. Derive class Contact from the base classes Person and Address and use their methods to print out the contact information. \n",
    "### 3. 从基类 Person 和 Address 派生出类 Contact，并使用它们的方法来打印联系人信息。\n",
    "\n",
    "Hint: Address class: show() will print street and city \n",
    "提示：Address类：show() 将打印街道和城市信息\n",
    "\n",
    "Person class: show() will print name and email\n",
    "Person类：show() 将打印姓名和电子邮件\n",
    "\n"
   ]
  },
  {
   "cell_type": "code",
   "execution_count": 22,
   "metadata": {},
   "outputs": [
    {
     "name": "stdout",
     "output_type": "stream",
     "text": [
      "姓名:name1\n",
      "地址:address1\n"
     ]
    }
   ],
   "source": [
    "class Person:\n",
    "    def __init__(self, name):\n",
    "        self.name = name\n",
    "\n",
    "    def name_show(self):\n",
    "        print(f'姓名:{self.name}')\n",
    "\n",
    "class Address:\n",
    "    def __init__(self, address):\n",
    "        self.address = address\n",
    "\n",
    "    def address_show(self):\n",
    "        print(f\"地址:{self.address}\")\n",
    "\n",
    "class Contact(Person, Address):\n",
    "    def __init__(self, name, address):\n",
    "        Person.__init__(self, name)\n",
    "        Address.__init__(self, address)\n",
    "\n",
    "    def print_information(self):\n",
    "        self.name_show()\n",
    "        self.address_show()\n",
    "\n",
    "example = Contact('name1', 'address1')\n",
    "example.print_information()\n",
    "\n"
   ]
  },
  {
   "cell_type": "markdown",
   "metadata": {},
   "source": [
    "### 4. Create a SavingsAccount class that behaves just like a BankAccount, but also has an interest rate and a method that increases the balance by the appropriate amount of interest. \n",
    "### 4. 创建一个 SavingsAccount 类，该类的行为与 BankAccount 类似，但也有一个利率和一个按适当利息额增加余额的方法。\n"
   ]
  },
  {
   "cell_type": "code",
   "execution_count": 23,
   "metadata": {},
   "outputs": [
    {
     "name": "stdout",
     "output_type": "stream",
     "text": [
      "你原来的余额是10000\n",
      "利率为0.018\n",
      "30年后,你的余额为17077.855714711026\n"
     ]
    }
   ],
   "source": [
    "class SavingsAccount:\n",
    "    def __init__(self, rate, amount, time):\n",
    "        self.rate=rate\n",
    "        self.amount=amount\n",
    "        self.time=time\n",
    "    \n",
    "    def amount_cauculation(self):\n",
    "        print(f'你原来的余额是{self.amount}\\n利率为{self.rate}\\n{self.time}年后,你的余额为{self.amount*((self.rate+1)**self.time)}')\n",
    "\n",
    "example = SavingsAccount(0.018,10000,30)\n",
    "example.amount_cauculation()"
   ]
  },
  {
   "cell_type": "markdown",
   "metadata": {},
   "source": [
    "### 5. Create a BankAccount class. Your class should support the following methods: \n",
    "### 5. 创建一个 BankAccount 类。 您的类应支持以下方法：\n",
    "\n",
    "```python\n",
    "class BankAccount: \n",
    "    \"\"\"Bank Account protected by a pin number.\\n银行账户受密码保护\"\"\" \n",
    "\n",
    "    def __init__(self, pin): \n",
    "    \"\"\"Initial account balance is 0 and pin is 'pin'.\\n初始账户余额为 0，密码为 \"pin\"。\"\"\" \n",
    "\n",
    "    def deposit(self, pin, amount): \n",
    "    \"\"\"Increment account balance by amount and return new balance.\\n按金额增加账户余额并返回新余额。\"\"\" \n",
    "\n",
    "    def withdraw(self, pin, amount): \n",
    "    \"\"\"Decrement account balance by amount and return amount withdrawn.\\n按金额减少账户余额，并退回提取的金额。\"\"\" \n",
    "\n",
    "    def get_balance(self, pin): \n",
    "    \"\"\"Return account balance.\\n退还账户余额。\"\"\" \n",
    "\n",
    "    def change_pin(self, oldpin, newpin): \n",
    "    \"\"\"Change pin from oldpin to newpin.\\n将旧密码改为新密码\"\"\" \n",
    "    \n",
    "```\n",
    "\n",
    "As you implement your BankAccount class, you should think about the following: \n",
    "\n",
    "- What should be stored within the BankAccount class? That is, what are its instance variables? \n",
    "- What should happen if the wrong pin is provided for any of the methods (other than __init__, which is setting the initial pin)? \n",
    "- What should happen if you try to withdraw more than is in the account? \n",
    "\n",
    "Does your bank account behave as you expect? Try depositing and/or withdrawing change, instead of whole dollar amounts. Do you want your real bank account to behave this way?\n",
    "\n",
    "在实现 BankAccount 类时，您应该考虑以下几点：\n",
    "\n",
    "- BankAccount 类中应存储哪些内容？ 也就是说，它的实例变量是什么？\n",
    "- 如果为任何方法（除 __init__ 以外，该方法用于设置初始密码）提供了错误的密码，会发生什么情况？\n",
    "- 如果试图提取的金额超过账户余额，会发生什么情况？\n",
    "\n",
    "您的银行账户是否如您所料？ 尝试存入和/或取出零钱，而不是整数美元。 您希望您的真实银行账户也这样吗？\n"
   ]
  },
  {
   "cell_type": "code",
   "execution_count": 29,
   "metadata": {},
   "outputs": [
    {
     "name": "stdout",
     "output_type": "stream",
     "text": [
      "存款系统:密码输入正确\n",
      "存款系统:已存入2001.1\n",
      "余额查询:已处于登录(Debug)状态\n",
      "余额查询:账户余额：2001.10\n",
      "取款系统:已处于登录(Debug)状态\n",
      "取款系统:已取出1022.3\n",
      "余额查询:已处于登录(Debug)状态\n",
      "余额查询:账户余额：978.80\n",
      "密码重置:密码输入正确\n",
      "余额查询:密码输入正确\n",
      "余额查询:账户余额：978.80\n"
     ]
    }
   ],
   "source": [
    "class BankAccount: \n",
    "    \"\"\"Bank Account protected by a pin number.\\n银行账户受密码保护\"\"\" \n",
    "\n",
    "    def __init__(self, pin): \n",
    "        \"\"\"Initial account balance is 0 and pin is 'pin'.\\n初始账户余额为 0，密码为 \"pin\"。\"\"\" \n",
    "        self.pin=pin\n",
    "        self.amount=0\n",
    "        self.login_state=False\n",
    "\n",
    "    def deposit(self): \n",
    "        \"\"\"Increment account balance by amount and return new balance.\\n按金额增加账户余额并返回新余额。\"\"\" \n",
    "        name='存款系统'\n",
    "        if self.login_state==False:\n",
    "            psw=input(f'{name}:请输入密码\\n')\n",
    "            if psw == self.pin:\n",
    "                print(f'{name}:密码输入正确')\n",
    "                self.login_state=True\n",
    "                deposit_amount=float(input(f'{name}:请输入存入金额'))\n",
    "                if deposit_amount>0:\n",
    "                    \n",
    "                    self.amount+=deposit_amount\n",
    "                    print(f'{name}:已存入{deposit_amount}')\n",
    "                else:\n",
    "                    print(f'{name}:不合法数据')\n",
    "            else:\n",
    "                print(f'{name}:密码输入错误')\n",
    "\n",
    "        elif self.login_state==True:\n",
    "            print(f'{name}:已处于登录(Debug)状态')\n",
    "            deposit_amount=float(input(f'{name}:请输入存入金额'))\n",
    "            if deposit_amount>0:\n",
    "                self.amount+=deposit_amount\n",
    "                print(f'{name}:已存入{deposit_amount}')\n",
    "            else:\n",
    "                print(f'{name}:不合法数据')\n",
    "\n",
    "\n",
    "    def withdraw(self): \n",
    "        \"\"\"Decrement account balance by amount and return amount withdrawn.\\n按金额减少账户余额，并退回提取的金额。\"\"\" \n",
    "        name='取款系统'\n",
    "        if self.login_state==False:\n",
    "            psw=input(f'{name}:请输入密码\\n')\n",
    "            if psw == self.pin:\n",
    "                print(f'{name}:密码输入正确')\n",
    "                self.login_state=True\n",
    "                withdraw_amount=float(input(f'{name}:请输入取出金额'))\n",
    "                if withdraw_amount>0:\n",
    "                    if withdraw_amount>self.amount:\n",
    "                        print(f'{name}:余额不足')\n",
    "                    else:\n",
    "                        self.amount-=withdraw_amount\n",
    "                        print(f'{name}:已取出{withdraw_amount}')\n",
    "                else:\n",
    "                    print(f'{name}:不合法数据')\n",
    "            else:\n",
    "                print(f'{name}:密码输入错误')\n",
    "\n",
    "        elif self.login_state==True:\n",
    "            print(f'{name}:已处于登录(Debug)状态')\n",
    "            withdraw_amount=float(input(f'{name}:请输入取出金额'))\n",
    "            if withdraw_amount>0:\n",
    "                if withdraw_amount>self.amount:\n",
    "                    print(f'{name}:余额不足')\n",
    "                else:\n",
    "                    self.amount-=withdraw_amount\n",
    "                    print(f'{name}:已取出{withdraw_amount}')\n",
    "            else:\n",
    "                print(f'{name}:不合法数据')\n",
    "\n",
    "\n",
    "    def get_balance(self): \n",
    "        \"\"\"Return account balance.\\n查看账户余额。\"\"\" \n",
    "        name='余额查询'\n",
    "        if self.login_state==False:\n",
    "            psw=input(f'{name}:请输入密码\\n')\n",
    "            if psw == self.pin:\n",
    "                print(f'{name}:密码输入正确')\n",
    "                self.login_state=True\n",
    "                self.amount_view='%.2f'%self.amount\n",
    "                print(f'{name}:账户余额：{self.amount_view}')\n",
    "            else:\n",
    "                print(f'{name}:密码输入错误')\n",
    "        else:\n",
    "            print(f'{name}:已处于登录(Debug)状态')\n",
    "            self.amount_view='%.2f'%self.amount\n",
    "            print(f'{name}:账户余额：{self.amount_view}')\n",
    "\n",
    "    def change_pin(self): \n",
    "        \"\"\"Change pin from oldpin to newpin.\\n将旧密码改为新密码\"\"\" \n",
    "        name='密码重置'\n",
    "        oldpin=input(f'{name}:请输入旧密码\\n')\n",
    "        if oldpin == self.pin:\n",
    "            print(f'{name}:密码输入正确')\n",
    "            newpin=input(f'{name}:请输入新密码\\n')\n",
    "            self.pin=newpin\n",
    "            self.login_state=False\n",
    "        else:\n",
    "            print(f'{name}:密码输入错误')\n",
    "        \n",
    "example = BankAccount('reforge3074')\n",
    "example.deposit()\n",
    "example.get_balance()\n",
    "example.withdraw()\n",
    "example.get_balance()\n",
    "example.change_pin()\n",
    "example.get_balance()"
   ]
  }
 ],
 "metadata": {
  "kernelspec": {
   "display_name": "Python 3",
   "language": "python",
   "name": "python3"
  },
  "language_info": {
   "codemirror_mode": {
    "name": "ipython",
    "version": 3
   },
   "file_extension": ".py",
   "mimetype": "text/x-python",
   "name": "python",
   "nbconvert_exporter": "python",
   "pygments_lexer": "ipython3",
   "version": "3.12.4"
  }
 },
 "nbformat": 4,
 "nbformat_minor": 2
}
