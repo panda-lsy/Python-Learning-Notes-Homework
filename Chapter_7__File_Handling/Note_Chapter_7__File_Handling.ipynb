{
 "cells": [
  {
   "cell_type": "markdown",
   "id": "9c5f42f8d31b637a",
   "metadata": {},
   "source": [
    "# File Handling \n",
    "## 定义文件路径\n",
    "要读取或写入文本文件时，必须首先确定要写入或读取哪个文件。\n",
    "## 读取和写入文件\n",
    "要对文件进行写入或读取时，首先要告诉操作系统要打开文件进行读取或写入。  \n",
    "读取时，将文件内容读入字符串变量。写入将字符串变量的内容写入文件。读写完成后关闭文件。  \n",
    "从文件中读取文本需要三个步骤：  \n",
    "1. 打开要读取的文件。  \n",
    "2. 从文件中读取（通常读入字符串变量）。   \n",
    "3. 关闭文件。  \n",
    "以下是语法："
   ]
  },
  {
   "cell_type": "code",
   "execution_count": null,
   "id": "12b4e386",
   "metadata": {},
   "outputs": [],
   "source": [
    "#file object = open(file_name [, access_mode][, buffering])"
   ]
  },
  {
   "cell_type": "markdown",
   "id": "e0f7a854",
   "metadata": {},
   "source": [
    "各个参数的细节如下：\n",
    "\n",
    "- file_name：file_name变量是一个包含了你要访问的文件名称的字符串值。\n",
    "- access_mode：access_mode决定了打开文件的模式：只读，写入，追加等。所有可取值见如下的完全列表。这个参数是非强制的，默认文件访问模式为只读(r)。\n",
    "- buffering:如果buffering的值被设为0，就不会有寄存。如果buffering的值取1，访问文件时会寄存行。如果将buffering的值设为大于1的整数，表明了这就是的寄存区的缓冲大小。如果取负值，寄存区的缓冲大小则为系统默认。"
   ]
  },
  {
   "cell_type": "code",
   "execution_count": 1,
   "id": "initial_id",
   "metadata": {
    "collapsed": true
   },
   "outputs": [
    {
     "data": {
      "text/plain": [
       "'My first file\\nthis file\\ncontain three line\\nappended data\\nmore data\\nwebsite\\n\\n \\n\\n\\n'"
      ]
     },
     "execution_count": 1,
     "metadata": {},
     "output_type": "execute_result"
    }
   ],
   "source": [
    "f=open('abc.txt')\n",
    "f.read()"
   ]
  },
  {
   "cell_type": "markdown",
   "id": "bd52b3b7f5bfcb7",
   "metadata": {},
   "source": [
    "### 不同模式打开文件的完全列表：\n",
    "\n",
    "模式\t描述\n",
    "t\t文本模式 (默认)。  \n",
    "x\t写模式，新建一个文件，如果该文件已存在则会报错。  \n",
    "\\+\t打开一个文件进行更新(可读可写)。  \n",
    "r\t以只读方式打开文件。文件的指针将会放在文件的开头。这是默认模式。  \n",
    "r+\t打开一个文件用于读写。文件指针将会放在文件的开头。  \n",
    "w\t打开一个文件只用于写入。如果该文件已存在则打开文件，并从开头开始编辑，即原有内容会被删除。如果该文件不存在，创建新文件。  \n",
    "w+\t打开一个文件用于读写。如果该文件已存在则打开文件，并从开头开始编辑，即原有内容会被删除。如果该文件不存在，创建新文件。  \n",
    "a\t打开一个文件用于追加。如果该文件已存在，文件指针将会放在文件的结尾。也就是说，新的内容将会被写入到已有内容之后。如果该文件不存在，创建新文件进行写入。  \n",
    "a+\t打开一个文件用于读写。如果该文件已存在，文件指针将会放在文件的结尾。文件打开时会是追加模式。如果该文件不存在，创建新文件用于读写。  "
   ]
  },
  {
   "cell_type": "markdown",
   "id": "b9da72bc",
   "metadata": {},
   "source": [
    "将文本写入文件需要三个类似的步骤：  \n",
    "1. 打开要写入的文件。  \n",
    "2. 将字符串（通常来自字符串变量）写入文件。  \n",
    "3. 关闭文件。  \n",
    "我们声明变量 f 来打开名为 myfile.txt 的文件。 Open 需要两个参数，一个是我们要打开的文件和一个字符串，字符串表示我们要对文件执行的权限或操作类型。\n",
    "在这里，我们在参数中使用了 \"w\"，表示新建并写入于库中不存在的文件。加号表示读和写。"
   ]
  },
  {
   "cell_type": "code",
   "execution_count": 3,
   "id": "59277e55",
   "metadata": {},
   "outputs": [],
   "source": [
    "f= open(\"myfile.txt\",\"w+\")\n",
    "for i in range(10):\n",
    "    f.write(\"This is line %d\\r\\n\" % (i+1))"
   ]
  },
  {
   "cell_type": "markdown",
   "id": "6c4efda8",
   "metadata": {},
   "source": [
    "## 关闭文件\n",
    "File 对象的 close（）方法刷新缓冲区里任何还没写入的信息，并关闭该文件，这之后便不能再进行写入。  \n",
    "当一个文件对象的引用被重新指定给另一个文件时，Python 会关闭之前的文件。用 close（）方法关闭文件是一个很好的习惯。  \n"
   ]
  },
  {
   "cell_type": "code",
   "execution_count": 9,
   "id": "c87910b1",
   "metadata": {},
   "outputs": [],
   "source": [
    "#fileObject.close()\n",
    "\n",
    "f= open(\"myfile.txt\",\"w+\")\n",
    "f.close()"
   ]
  },
  {
   "cell_type": "markdown",
   "id": "e859da5f",
   "metadata": {},
   "source": [
    "## 文件定位\n",
    "`tell()`方法告诉你文件内的当前位置, 换句话说，下一次的读写会发生在文件开头这么多字节之后。  \n",
    "`seek(offset [,from])`方法改变当前文件的位置。`Offset`变量表示要移动的字节数。`From`变量指定开始移动字节的参考位置。  \n",
    "如果from被设为0，这意味着将文件的开头作为移动字节的参考位置。如果设为1，则使用当前的位置作为参考位置。如果它被设为2，那么该文件的末尾将作为参考位置。  "
   ]
  },
  {
   "cell_type": "code",
   "execution_count": 12,
   "id": "3c45b4b0",
   "metadata": {},
   "outputs": [
    {
     "name": "stdout",
     "output_type": "stream",
     "text": [
      "读取的字符串是 :  This is li\n",
      "当前文件位置 :  10\n",
      "重新读取字符串 :  This is li\n"
     ]
    }
   ],
   "source": [
    "# Open the file in write mode and write some content to it\n",
    "f= open(\"1.txt\",\"w+\")\n",
    "for i in range(10):\n",
    "    f.write(\"This is line %d\\r\\n\" % (i+1))\n",
    "f.write(\"Hello, this is a test file.\")\n",
    "\n",
    "# Move the file pointer to the beginning of the file\n",
    "f.seek(0)\n",
    "\n",
    "# Read the first 10 characters from the file\n",
    "str = f.read(10)\n",
    "print(\"读取的字符串是 : \", str)\n",
    "\n",
    "# 查找当前位置\n",
    "position = f.tell()\n",
    "print(\"当前文件位置 : \", position)\n",
    "\n",
    "# 把指针再次重新定位到文件开头\n",
    "position = f.seek(0, 0)\n",
    "str = f.read(10)\n",
    "print(\"重新读取字符串 : \", str)\n",
    "\n",
    "# 关闭打开的文件\n",
    "f.close()"
   ]
  }
 ],
 "metadata": {
  "kernelspec": {
   "display_name": "Python 3",
   "language": "python",
   "name": "python3"
  },
  "language_info": {
   "codemirror_mode": {
    "name": "ipython",
    "version": 3
   },
   "file_extension": ".py",
   "mimetype": "text/x-python",
   "name": "python",
   "nbconvert_exporter": "python",
   "pygments_lexer": "ipython3",
   "version": "3.12.4"
  }
 },
 "nbformat": 4,
 "nbformat_minor": 5
}
